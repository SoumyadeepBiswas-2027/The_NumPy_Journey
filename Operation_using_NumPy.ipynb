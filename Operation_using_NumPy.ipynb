{
 "cells": [
  {
   "cell_type": "code",
   "execution_count": 4,
   "id": "2c7aa3a0-c4f4-49aa-ac90-99edfdd535d0",
   "metadata": {},
   "outputs": [],
   "source": [
    "import numpy as np\n",
    "import matplotlib.pyplot as plt"
   ]
  },
  {
   "cell_type": "code",
   "execution_count": 5,
   "id": "cd109f31-d4da-4c97-becc-9923e9d024df",
   "metadata": {},
   "outputs": [
    {
     "name": "stdout",
     "output_type": "stream",
     "text": [
      "Image successfully converted to lionel-messi.npy\n"
     ]
    }
   ],
   "source": [
    "from matplotlib import image\n",
    "\n",
    "# Step 1: Load image as array\n",
    "img = image.imread(\"Pictures/lionel-messi.webp\")\n",
    "\n",
    "# Step 2: Save it as a .npy file\n",
    "np.save(\"Pictures/lionel-messi.npy\", img)\n",
    "\n",
    "print(\"Image successfully converted to lionel-messi.npy\")"
   ]
  },
  {
   "cell_type": "code",
   "execution_count": null,
   "id": "128a7750-68a7-4c43-8bd1-840b3ccfd39c",
   "metadata": {},
   "outputs": [],
   "source": [
    "try:\n",
    "    pic = np.load(\"Pictures/lionel-messi.npy\")\n",
    "\n",
    "     # Show original image\n",
    "    plt.imshow(pic / 255)\n",
    "    plt.axis('off')\n",
    "    plt.title(\"Original Image\")\n",
    "    plt.show()\n",
    "\n",
    "    # Add alpha channel if not there\n",
    "    if pic.shape[2] == 3:\n",
    "        alpha = 255 * np.ones((pic.shape[0], pic.shape[1], 1))\n",
    "        pic = np.concatenate((pic, alpha), axis=2)\n",
    "\n",
    "    # Find green pixels: green > 120 and green > red and blue\n",
    "    green = (pic[:, :, 1] > 120) & (pic[:, :, 1] > pic[:, :, 0]) & (pic[:, :, 1] > pic[:, :, 2])\n",
    "\n",
    "    # Make green pixels transparent\n",
    "    pic[green, 3] = 0\n",
    "\n",
    "    # Show image with pixels scaled 0-1 for floats\n",
    "    plt.imshow(pic / 255)\n",
    "    plt.axis('off')\n",
    "    plt.title(\"Background Removed\")\n",
    "    plt.show()\n",
    "    print(\"Pixel matrix with alpha channel:\")\n",
    "    print(pic)\n",
    "\n",
    "except FileNotFoundError:\n",
    "    print(\"File not found!\")"
   ]
  },
  {
   "cell_type": "code",
   "execution_count": null,
   "id": "27aafdd5-3cda-4a3f-8216-92dfa0146d87",
   "metadata": {},
   "outputs": [],
   "source": []
  }
 ],
 "metadata": {
  "kernelspec": {
   "display_name": "Python 3 (ipykernel)",
   "language": "python",
   "name": "python3"
  },
  "language_info": {
   "codemirror_mode": {
    "name": "ipython",
    "version": 3
   },
   "file_extension": ".py",
   "mimetype": "text/x-python",
   "name": "python",
   "nbconvert_exporter": "python",
   "pygments_lexer": "ipython3",
   "version": "3.12.7"
  }
 },
 "nbformat": 4,
 "nbformat_minor": 5
}
