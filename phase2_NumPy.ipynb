{
 "cells": [
  {
   "cell_type": "markdown",
   "id": "6b6cf3f7-f653-4249-83b3-8f70e705b6a0",
   "metadata": {},
   "source": [
    "## Numpy Array operations"
   ]
  },
  {
   "cell_type": "code",
   "execution_count": 4,
   "id": "04104a30-5f15-4954-b4f2-424d3484b9fa",
   "metadata": {},
   "outputs": [],
   "source": [
    "import numpy as np"
   ]
  },
  {
   "cell_type": "code",
   "execution_count": 8,
   "id": "acdb8bb3-7c13-4006-9c10-d5c99d40b672",
   "metadata": {},
   "outputs": [
    {
     "name": "stdout",
     "output_type": "stream",
     "text": [
      "Basic Slicing: [3 4 5 6 7]\n",
      "With Step: [2 4 6 8]\n",
      "Negative indexing: 6\n"
     ]
    }
   ],
   "source": [
    "arr = np.array([1,2,3,4,5,6,7,8,9])\n",
    "print(\"Basic Slicing:\", arr[2:7])\n",
    "print(\"With Step:\", arr[1:8:2])\n",
    "print(\"Negative indexing:\", arr[-4]) #returns last 4th value"
   ]
  },
  {
   "cell_type": "code",
   "execution_count": 11,
   "id": "5355d75b-ed3a-43e3-ad2a-198e05773f9d",
   "metadata": {},
   "outputs": [
    {
     "name": "stdout",
     "output_type": "stream",
     "text": [
      "Specific element: 6\n",
      "Entire specific Row: [4 5 6]\n",
      "Entire specific Colomn: [2 5 8]\n"
     ]
    }
   ],
   "source": [
    "arr_2D = np.array([[1,2,3],\n",
    "                  [4,5,6],\n",
    "                  [7,8,9]])\n",
    "print(\"Specific element:\", arr_2D[1,2])\n",
    "print(\"Entire specific Row:\", arr_2D[1])\n",
    "print(\"Entire specific Colomn:\", arr_2D[:,1])"
   ]
  },
  {
   "cell_type": "markdown",
   "id": "4c7b06b0-d678-42e2-a1c2-6d4021c957a6",
   "metadata": {},
   "source": [
    "### Sorting"
   ]
  },
  {
   "cell_type": "code",
   "execution_count": 18,
   "id": "cf4cad12-4ae9-43ae-ae15-0c2dc2802a9d",
   "metadata": {},
   "outputs": [
    {
     "name": "stdout",
     "output_type": "stream",
     "text": [
      "Sorted array: [1 2 3 4 5 6 7 8]\n",
      "Sorted 2D array by coloumn: \n",
      " [[1 1]\n",
      " [2 2]\n",
      " [3 3]]\n"
     ]
    }
   ],
   "source": [
    "unsorted = np.array([1,5,2,4,3,8,7,6])\n",
    "print(\"Sorted array:\", np.sort(unsorted))\n",
    "\n",
    "arr_2D_unsorted = np.array([[3,1],[1,2],[2,3]])\n",
    "print(\"Sorted 2D array by coloumn: \\n\",np.sort(arr_2D_unsorted, axis=0))"
   ]
  },
  {
   "cell_type": "markdown",
   "id": "640530b4-aa42-48f7-be97-43f586ebcd7e",
   "metadata": {},
   "source": [
    "### Filter"
   ]
  },
  {
   "cell_type": "code",
   "execution_count": 19,
   "id": "3198c70f-de5b-4fdf-bb3c-1146e7182ab5",
   "metadata": {},
   "outputs": [
    {
     "name": "stdout",
     "output_type": "stream",
     "text": [
      "Even numbers: [2 4 6 8]\n"
     ]
    }
   ],
   "source": [
    "numbers = np.array([1,2,3,4,5,6,7,8,9])\n",
    "even_numbers = numbers[numbers % 2 ==0]\n",
    "print(\"Even numbers:\",even_numbers)"
   ]
  },
  {
   "cell_type": "markdown",
   "id": "0af78c94-3242-4d52-8b32-e99eefa8d97d",
   "metadata": {},
   "source": [
    "### Filter with mask"
   ]
  },
  {
   "cell_type": "code",
   "execution_count": 20,
   "id": "5e55fc32-b430-4a2b-8613-b575dbeabee5",
   "metadata": {},
   "outputs": [
    {
     "name": "stdout",
     "output_type": "stream",
     "text": [
      "Numbers greater than 5: [6 7 8 9]\n"
     ]
    }
   ],
   "source": [
    "mask = numbers>5\n",
    "print(\"Numbers greater than 5:\", numbers[mask])"
   ]
  },
  {
   "cell_type": "markdown",
   "id": "857b13ef-5bd0-4bfc-99eb-a7f64bdda065",
   "metadata": {},
   "source": [
    "### Fancy indexing vs np.where()"
   ]
  },
  {
   "cell_type": "code",
   "execution_count": 23,
   "id": "de0ba498-a3fb-4939-9136-ddeac5a8a1c7",
   "metadata": {},
   "outputs": [
    {
     "name": "stdout",
     "output_type": "stream",
     "text": [
      "[1 3 5]\n",
      "(array([5, 6, 7, 8], dtype=int64),)\n",
      "NP where: [6 7 8 9]\n"
     ]
    }
   ],
   "source": [
    "indices = [0,2,4]\n",
    "print(numbers[indices])\n",
    "\n",
    "where_result = np.where(numbers > 5)\n",
    "print(where_result)\n",
    "print(\"NP where:\", numbers[where_result])"
   ]
  },
  {
   "cell_type": "code",
   "execution_count": 25,
   "id": "444cf014-0664-4e8a-80cf-dcf1b62f2187",
   "metadata": {},
   "outputs": [
    {
     "name": "stdout",
     "output_type": "stream",
     "text": [
      "['false' 'false' 'false' 'false' 'false' 'true' 'true' 'true' 'true']\n"
     ]
    }
   ],
   "source": [
    "condition_array = np.where(numbers > 5, \"true\", \"false\")\n",
    "#if(numbers > 5){\n",
    "#  true} \n",
    "#else { \n",
    "#  false }\n",
    "print(condition_array)"
   ]
  },
  {
   "cell_type": "markdown",
   "id": "05263867-5fa6-4fee-943f-8f31b032bdcd",
   "metadata": {},
   "source": [
    "### Adding and Removing data"
   ]
  },
  {
   "cell_type": "code",
   "execution_count": 26,
   "id": "b5a14160-2b9b-4c86-b784-ac708b252b10",
   "metadata": {},
   "outputs": [
    {
     "name": "stdout",
     "output_type": "stream",
     "text": [
      "[1 2 3 4 5 6 7 8]\n"
     ]
    }
   ],
   "source": [
    "arr1 = np.array([1,2,3,4])\n",
    "arr2 = np.array([5,6,7,8])\n",
    "\n",
    "combined = np.concatenate((arr1,arr2))\n",
    "print(combined)"
   ]
  },
  {
   "cell_type": "markdown",
   "id": "dc21e652-5fd4-4d39-9196-79deb65d458c",
   "metadata": {},
   "source": [
    "### Array Compatibility"
   ]
  },
  {
   "cell_type": "code",
   "execution_count": 28,
   "id": "4065c3ea-d3bc-4721-80f2-374b929b83ee",
   "metadata": {},
   "outputs": [
    {
     "name": "stdout",
     "output_type": "stream",
     "text": [
      "Compatibility shape: True\n",
      "Compatibility shape: False\n"
     ]
    }
   ],
   "source": [
    "a = np.array([1,2,3])\n",
    "b = np.array([4,5,6])\n",
    "c = np.array([7,8,9,5])\n",
    "print(\"Compatibility shape:\", a.shape == b.shape)\n",
    "print(\"Compatibility shape:\", a.shape == c.shape)"
   ]
  },
  {
   "cell_type": "code",
   "execution_count": 36,
   "id": "697e5e48-91c3-4000-8da9-382c4ee157c7",
   "metadata": {},
   "outputs": [
    {
     "name": "stdout",
     "output_type": "stream",
     "text": [
      "Original is: \n",
      " [[1 2]\n",
      " [3 4]]\n",
      "\n",
      "\n",
      "With_new_row is: \n",
      " [[1 2]\n",
      " [3 4]\n",
      " [5 6]]\n",
      "\n",
      "\n",
      "With new Coloumn: \n",
      " [[1 2 7]\n",
      " [3 4 8]]\n"
     ]
    }
   ],
   "source": [
    "original = np.array([[1,2],[3,4]])\n",
    "new_row = np.array([[5,6]])\n",
    "\n",
    "with_new_row = np.vstack((original,new_row)) #vstack() helps in adding a new row\n",
    "print(\"Original is: \\n\",original)\n",
    "print(\"\\n\")\n",
    "print(\"With_new_row is: \\n\",with_new_row)\n",
    "\n",
    "print(\"\\n\")\n",
    "\n",
    "new_col = np.array([[7],[8]])\n",
    "with_new_col = np.hstack((original,new_col))\n",
    "print(\"With new Coloumn: \\n\", with_new_col)"
   ]
  },
  {
   "cell_type": "code",
   "execution_count": 38,
   "id": "739ae435-7ca5-472e-bf9c-5331258bb2e0",
   "metadata": {},
   "outputs": [
    {
     "name": "stdout",
     "output_type": "stream",
     "text": [
      "Array after deletion: [1 2 4 5 6 7]\n"
     ]
    }
   ],
   "source": [
    "arr = np.array([1,2,3,4,5,6,7])\n",
    "deleted = np.delete(arr, 2)\n",
    "print(\"Array after deletion:\", deleted)"
   ]
  },
  {
   "cell_type": "code",
   "execution_count": null,
   "id": "8d50182b-2582-4a5f-a68a-0b794e4c7db6",
   "metadata": {},
   "outputs": [],
   "source": []
  }
 ],
 "metadata": {
  "kernelspec": {
   "display_name": "Python 3 (ipykernel)",
   "language": "python",
   "name": "python3"
  },
  "language_info": {
   "codemirror_mode": {
    "name": "ipython",
    "version": 3
   },
   "file_extension": ".py",
   "mimetype": "text/x-python",
   "name": "python",
   "nbconvert_exporter": "python",
   "pygments_lexer": "ipython3",
   "version": "3.12.7"
  }
 },
 "nbformat": 4,
 "nbformat_minor": 5
}
