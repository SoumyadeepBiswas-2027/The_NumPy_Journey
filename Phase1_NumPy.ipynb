{
 "cells": [
  {
   "cell_type": "code",
   "execution_count": null,
   "id": "05fe0c4e-98eb-44cd-85d7-af67dc79e8eb",
   "metadata": {},
   "outputs": [],
   "source": [
    "#NumPy array and basics"
   ]
  },
  {
   "cell_type": "code",
   "execution_count": 1,
   "id": "4ddc8993-1808-4995-b9b8-22261dfa4936",
   "metadata": {},
   "outputs": [],
   "source": [
    "import numpy as np"
   ]
  },
  {
   "cell_type": "markdown",
   "id": "0173b8dd-5f63-43a9-9e14-093b47d63e98",
   "metadata": {},
   "source": [
    "### Creating array from list"
   ]
  },
  {
   "cell_type": "code",
   "execution_count": 6,
   "id": "5e74988b-4b5b-4d83-aeaa-14c333bba582",
   "metadata": {},
   "outputs": [
    {
     "name": "stdout",
     "output_type": "stream",
     "text": [
      "1D-Array is: [1 2 3 4 5]\n",
      "2D-Array is: [[1 2 3]\n",
      " [4 5 6]]\n"
     ]
    }
   ],
   "source": [
    "arr_1d = np.array([1,2,3,4,5])\n",
    "print(\"1D-Array is:\", arr_1d)\n",
    "\n",
    "arr_2d = np.array([[1,2,3],[4,5,6]])\n",
    "print(\"2D-Array is:\", arr_2d)"
   ]
  },
  {
   "cell_type": "markdown",
   "id": "5c44a452-9b13-4b90-9614-0f11d420169b",
   "metadata": {},
   "source": [
    "### List vs Numpy array"
   ]
  },
  {
   "cell_type": "code",
   "execution_count": 9,
   "id": "36ade1ca-353f-4aa9-b80e-9b68f2d07001",
   "metadata": {},
   "outputs": [
    {
     "name": "stdout",
     "output_type": "stream",
     "text": [
      "Python list multiplication: [1, 2, 3, 1, 2, 3]\n",
      "Python list multiplication: [2 4 6]\n",
      "\n",
      " List operation time: 0.2819211483001709\n",
      "\n",
      " Numpy operation time: 0.0\n"
     ]
    }
   ],
   "source": [
    "py_list = [1,2,3]\n",
    "print(\"Python list multiplication:\" , py_list*2)\n",
    "\n",
    "np_array = np.array([1,2,3]) #element wise multiplication\n",
    "print(\"Python list multiplication:\" , np_array*2)\n",
    "\n",
    "import time \n",
    "start = time.time()\n",
    "py_list =[i*2 for i in range(1000000)]\n",
    "print(\"\\n List operation time:\" ,time.time() - start)\n",
    "\n",
    "start = time.time()\n",
    "np_array = np.arange(1000000) * 2\n",
    "print(\"\\n Numpy operation time:\" ,time.time() - start)"
   ]
  },
  {
   "cell_type": "markdown",
   "id": "0f97f358-0b94-490a-baa3-8d197b7b5639",
   "metadata": {},
   "source": [
    "### Creating array from scratch"
   ]
  },
  {
   "cell_type": "code",
   "execution_count": 18,
   "id": "181b1175-b741-4925-befa-6bbf8501c70d",
   "metadata": {},
   "outputs": [
    {
     "name": "stdout",
     "output_type": "stream",
     "text": [
      "zeroes array:\n",
      " [[0. 0. 0. 0.]\n",
      " [0. 0. 0. 0.]\n",
      " [0. 0. 0. 0.]]\n",
      "one array: \n",
      " [[1. 1. 1. 1.]\n",
      " [1. 1. 1. 1.]\n",
      " [1. 1. 1. 1.]]\n",
      "full array: \n",
      " [[9 9 9]\n",
      " [9 9 9]]\n",
      "random array: \n",
      " [[0.97547331 0.50138676 0.7809663 ]\n",
      " [0.33876365 0.53471461 0.72672442]\n",
      " [0.43146855 0.4164298  0.06184221]]\n",
      "Sequence array: \n",
      " [ 0  2  4  6  8 10]\n"
     ]
    }
   ],
   "source": [
    "zeros = np.zeros((3,4))\n",
    "print(\"zeroes array:\\n\",zeros)\n",
    "\n",
    "ones = np.ones((3,4))\n",
    "print(\"one array: \\n\",ones)\n",
    "\n",
    "full= np.full((2,3),9)\n",
    "print(\"full array: \\n\",full)\n",
    "\n",
    "random = np.random.random((3,3))\n",
    "print(\"random array: \\n\", random)\n",
    "\n",
    "sequence = np.arange(0, 11, 2)\n",
    "print(\"Sequence array: \\n\", sequence)"
   ]
  },
  {
   "cell_type": "markdown",
   "id": "1ec5dd97-68f1-4652-9fc2-229b88a7280b",
   "metadata": {},
   "source": [
    "### Vector,Matrix and Tensor"
   ]
  },
  {
   "cell_type": "code",
   "execution_count": 21,
   "id": "e726353c-b4d9-442c-a78d-0f9aeb31c853",
   "metadata": {},
   "outputs": [
    {
     "name": "stdout",
     "output_type": "stream",
     "text": [
      "Vector:\n",
      " [1 2 3]\n",
      "Marix:\n",
      " [[1 2 3]\n",
      " [4 5 6]]\n",
      "Tensor:\n",
      " [[[1 2]\n",
      "  [3 4]]\n",
      "\n",
      " [[5 6]\n",
      "  [7 8]]]\n"
     ]
    }
   ],
   "source": [
    "vector = np.array([1,2,3])\n",
    "print(\"Vector:\\n\",vector)\n",
    "\n",
    "matrix = np.array([[1,2,3],\n",
    "                 [4,5,6]])\n",
    "print(\"Marix:\\n\",matrix)\n",
    "\n",
    "tensor = np.array( [[[1,2],[3,4]], \n",
    "                   [[5,6],[7,8]]] )\n",
    "print(\"Tensor:\\n\",tensor)"
   ]
  },
  {
   "cell_type": "markdown",
   "id": "0fe7abef-0a77-425a-8000-638e76312b7f",
   "metadata": {},
   "source": [
    "### Array Properties"
   ]
  },
  {
   "cell_type": "code",
   "execution_count": 23,
   "id": "4b06b3f6-66db-4188-a55b-884a892d2028",
   "metadata": {},
   "outputs": [
    {
     "name": "stdout",
     "output_type": "stream",
     "text": [
      "Shape: (2, 3)\n",
      "Dimension: 2\n",
      "Size: 6\n",
      "DType: float64\n"
     ]
    }
   ],
   "source": [
    "arr = np.array([[1,2,3],\n",
    "               [4,5,6]])\n",
    "print(\"Shape:\",arr.shape)\n",
    "print(\"Dimension:\",arr.ndim)\n",
    "print(\"Size:\",arr.size)\n",
    "print(\"DType:\",arr.dtype)\n"
   ]
  },
  {
   "cell_type": "markdown",
   "id": "d0dee3d5-bde9-4d65-b6f8-2c31b90901ca",
   "metadata": {},
   "source": [
    "### Array ReShaping"
   ]
  },
  {
   "cell_type": "code",
   "execution_count": 36,
   "id": "583f4f91-ff7f-45a3-b959-636f78ca6be1",
   "metadata": {},
   "outputs": [
    {
     "name": "stdout",
     "output_type": "stream",
     "text": [
      "Original array: [ 0  1  2  3  4  5  6  7  8  9 10 11]\n",
      "Reshape: \n",
      " [[ 0  1  2  3]\n",
      " [ 4  5  6  7]\n",
      " [ 8  9 10 11]]\n",
      "\n",
      " Flattened array: [ 0  1  2  3  4  5  6  7  8  9 10 11]\n",
      "\n",
      " Raveled array: [ 0  1  2  3  4  5  6  7  8  9 10 11]\n",
      "Transposed array: \n",
      " [[ 0  4  8]\n",
      " [ 1  5  9]\n",
      " [ 2  6 10]\n",
      " [ 3  7 11]]\n"
     ]
    }
   ],
   "source": [
    "array = np.arange(12)\n",
    "print(\"Original array:\", array)\n",
    "\n",
    "reshaped = array.reshape((3,4))\n",
    "print(\"Reshape: \\n\",reshaped)\n",
    "\n",
    "flattened = reshaped.flatten() #returns copy\n",
    "print(\"\\n Flattened array:\", flattened)\n",
    "\n",
    "#ravel(returns view ,instead of copy)\n",
    "\n",
    "raveled = reshaped.ravel() #returns original array\n",
    "print(\"\\n Raveled array:\", raveled)\n",
    "\n",
    "#To get Transpose,we use .T as shown below\n",
    "transpose = reshaped.T\n",
    "print(\"Transposed array: \\n\",transpose)"
   ]
  },
  {
   "cell_type": "code",
   "execution_count": null,
   "id": "92a5e7cd-4c3f-4e3b-b648-c35e07b3096c",
   "metadata": {},
   "outputs": [],
   "source": []
  }
 ],
 "metadata": {
  "kernelspec": {
   "display_name": "Python 3 (ipykernel)",
   "language": "python",
   "name": "python3"
  },
  "language_info": {
   "codemirror_mode": {
    "name": "ipython",
    "version": 3
   },
   "file_extension": ".py",
   "mimetype": "text/x-python",
   "name": "python",
   "nbconvert_exporter": "python",
   "pygments_lexer": "ipython3",
   "version": "3.12.7"
  }
 },
 "nbformat": 4,
 "nbformat_minor": 5
}
